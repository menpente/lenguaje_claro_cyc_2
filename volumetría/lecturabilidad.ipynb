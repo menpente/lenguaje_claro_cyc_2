{
  "cells": [
    {
      "cell_type": "markdown",
      "metadata": {
        "id": "view-in-github",
        "colab_type": "text"
      },
      "source": [
        "<a href=\"https://colab.research.google.com/github/frluquba/lenguaje_claro_cyc_2/blob/main/volumetr%C3%ADa/lecturabilidad.ipynb\" target=\"_parent\"><img src=\"https://colab.research.google.com/assets/colab-badge.svg\" alt=\"Open In Colab\"/></a>"
      ]
    },
    {
      "cell_type": "markdown",
      "metadata": {
        "formattedRanges": [],
        "deepnote_app_coordinates": {
          "h": 5,
          "w": 12,
          "x": 0,
          "y": 0
        },
        "cell_id": "9b8ffa3724a24c52bd30b96a178600cc",
        "deepnote_cell_type": "text-cell-h1",
        "id": "DUfDUmmWdOWW"
      },
      "source": [
        "# Cálculo de lecturabilidad de un sitio web"
      ]
    },
    {
      "cell_type": "markdown",
      "metadata": {
        "formattedRanges": [
          {
            "url": "https://legible.es/blog/lecturabilidad-fernandez-huerta/",
            "type": "link",
            "ranges": [],
            "toCodePoint": 134,
            "fromCodePoint": 118
          }
        ],
        "deepnote_app_coordinates": {
          "h": 2,
          "w": 8,
          "x": 0,
          "y": 0
        },
        "cell_id": "c96134ba33da4a7381df19ea1d0f932c",
        "deepnote_cell_type": "text-cell-p",
        "id": "414y4onndOWZ"
      },
      "source": [
        "Con este código vamos a bajarnos el texto de un sitio web y a calcular su lecturabilidad de acuerdo con la fórmula de Fernández Huerta."
      ]
    },
    {
      "cell_type": "code",
      "source": [
        "!pip install textstat"
      ],
      "metadata": {
        "id": "ZmxSvk45fGon",
        "outputId": "9cbe7215-097a-41c6-f563-8dc7ee267fac",
        "colab": {
          "base_uri": "https://localhost:8080/"
        }
      },
      "execution_count": 1,
      "outputs": [
        {
          "output_type": "stream",
          "name": "stdout",
          "text": [
            "Collecting textstat\n",
            "  Downloading textstat-0.7.4-py3-none-any.whl.metadata (14 kB)\n",
            "Collecting pyphen (from textstat)\n",
            "  Downloading pyphen-0.16.0-py3-none-any.whl.metadata (3.2 kB)\n",
            "Requirement already satisfied: setuptools in /usr/local/lib/python3.10/dist-packages (from textstat) (71.0.4)\n",
            "Downloading textstat-0.7.4-py3-none-any.whl (105 kB)\n",
            "\u001b[2K   \u001b[90m━━━━━━━━━━━━━━━━━━━━━━━━━━━━━━━━━━━━━━━━\u001b[0m \u001b[32m105.1/105.1 kB\u001b[0m \u001b[31m2.3 MB/s\u001b[0m eta \u001b[36m0:00:00\u001b[0m\n",
            "\u001b[?25hDownloading pyphen-0.16.0-py3-none-any.whl (2.1 MB)\n",
            "\u001b[2K   \u001b[90m━━━━━━━━━━━━━━━━━━━━━━━━━━━━━━━━━━━━━━━━\u001b[0m \u001b[32m2.1/2.1 MB\u001b[0m \u001b[31m25.1 MB/s\u001b[0m eta \u001b[36m0:00:00\u001b[0m\n",
            "\u001b[?25hInstalling collected packages: pyphen, textstat\n",
            "Successfully installed pyphen-0.16.0 textstat-0.7.4\n"
          ]
        }
      ]
    },
    {
      "cell_type": "code",
      "metadata": {
        "source_hash": null,
        "execution_start": 1699445200178,
        "execution_millis": 8,
        "deepnote_app_coordinates": {
          "h": 5,
          "w": 12,
          "x": 0,
          "y": 0
        },
        "deepnote_to_be_reexecuted": false,
        "deepnote_app_is_code_hidden": false,
        "deepnote_app_is_output_hidden": false,
        "cell_id": "d59809ed97c446e18d1fc74f802bf9a3",
        "deepnote_cell_type": "code",
        "id": "kpS8qvMIdOWa"
      },
      "source": [
        "#Importamos las librerías\n",
        "import requests\n",
        "from bs4 import BeautifulSoup\n",
        "import pandas as pd\n",
        "import textstat"
      ],
      "execution_count": 2,
      "outputs": []
    },
    {
      "cell_type": "code",
      "metadata": {
        "source_hash": null,
        "execution_start": 1699445119074,
        "execution_millis": 81107,
        "deepnote_app_coordinates": {
          "h": 5,
          "w": 12,
          "x": 0,
          "y": 0
        },
        "deepnote_to_be_reexecuted": false,
        "deepnote_app_is_code_hidden": false,
        "cell_id": "30f7f5cb298f43d0ad9c69912ca2d492",
        "deepnote_cell_type": "code",
        "id": "CKrB9RjbdOWb"
      },
      "source": [
        "url = 'https://www.comunidad.madrid/' #indicamos la URL de la que queremos extraer textos"
      ],
      "execution_count": 3,
      "outputs": []
    },
    {
      "cell_type": "code",
      "metadata": {
        "source_hash": null,
        "execution_start": 1699306544885,
        "execution_millis": 6894,
        "deepnote_app_coordinates": {
          "h": 5,
          "w": 12,
          "x": 0,
          "y": 0
        },
        "deepnote_to_be_reexecuted": false,
        "deepnote_app_is_code_hidden": false,
        "cell_id": "c32a4a87bcaf46759e56ae6400be6b8a",
        "deepnote_cell_type": "code",
        "id": "bSbq7FVAdOWc"
      },
      "source": [
        "#Descargamos los textos y los guardamos en una tabla\n",
        "response = requests.get(url)\n",
        "soup = BeautifulSoup(response.content, 'html.parser')\n",
        "\n",
        "# Extracting all the links from the page\n",
        "links = []\n",
        "for link in soup.find_all('a'):\n",
        "    links.append(link.get('href'))\n",
        "\n",
        "texts = []\n",
        "for link in links[0:10]: #ponemos un índice para probar con los 10 primeros enlaces. Podemos quitarlo luego para descargar el sitio completo.\n",
        "    if link is not None:# and link.startswith(\"/\"):\n",
        "        full_url = url + link\n",
        "        response = requests.get(full_url)\n",
        "        soup = BeautifulSoup(response.content, 'html.parser')\n",
        "        # Extracting all the text from the page\n",
        "        text = soup.get_text()\n",
        "        #PENDIENTE. Añadir función que limpie el texto extraído. Eliminando, por ejemplo, espacios múltiples o saltos de línea\n",
        "        if text:\n",
        "            texts.append(text)\n",
        "        else:\n",
        "            texts.append(\"\")  # add empty string when no text is found\n",
        "\n",
        "df = pd.DataFrame()\n",
        "df['links'] = pd.Series(links)\n",
        "df['texts'] = pd.Series(texts)"
      ],
      "execution_count": 4,
      "outputs": []
    },
    {
      "cell_type": "code",
      "metadata": {
        "source_hash": null,
        "execution_start": 1699302771119,
        "execution_millis": 125,
        "deepnote_app_coordinates": {
          "h": 5,
          "w": 12,
          "x": 0,
          "y": 0
        },
        "deepnote_to_be_reexecuted": false,
        "deepnote_app_is_code_hidden": false,
        "cell_id": "8d4973ad4818414883be9eb46471a5d2",
        "deepnote_cell_type": "code",
        "id": "2mEUvR_QdOWd",
        "collapsed": true,
        "outputId": "7736b461-d946-4f77-a8b8-750e98fcbfa0",
        "colab": {
          "base_uri": "https://localhost:8080/",
          "height": 1867
        }
      },
      "source": [
        "import re\n",
        "import pandas as pd\n",
        "\n",
        "# Función para reemplazar URLs, correos electrónicos, o cualquier otro patrón\n",
        "def clean_text(text):\n",
        "    if isinstance(text, str):  # Verifica si es un string\n",
        "        # Reemplazar URLs\n",
        "        text = re.sub(r'https?://(?:www\\.)?[^\\s/$.?#].[^\\s]*', ' ', text)\n",
        "        # Reemplazar correos electrónicos\n",
        "        text = re.sub(r'[a-zA-Z0-9._%+-]+@[a-zA-Z0-9.-]+\\.[a-zA-Z]{2,}', ' ', text)\n",
        "        # Reemplazar otros patrones (puedes agregar más aquí)\n",
        "        # Por ejemplo: remover menciones @\n",
        "        text = re.sub(r'@\\w+', ' ', text)\n",
        "        # Reemplazar fechas en formato YYYY-MM-DD\n",
        "        text = re.sub(r'\\d{4}-\\d{2}-\\d{2}', ' ', text)\n",
        "\n",
        "        text = re.sub(r'\\d{4}', ' ', text)\n",
        "        # Remover saltos de línea\n",
        "        text = text.replace(\"\\n\", \" \")\n",
        "\n",
        "        text = re.sub(r'\\s+', ' ', text).strip()\n",
        "\n",
        "        return text\n",
        "    return text\n",
        "\n",
        "# Asumiendo que tienes un DataFrame `df`, aplicamos la función a cada celda\n",
        "df_cleaned = df.applymap(clean_text)\n",
        "\n",
        "# Eliminar filas con valores nulos si es necesario\n",
        "df_cleaned = df_cleaned.dropna()\n",
        "\n",
        "# Mostrar el DataFrame limpio\n",
        "df_cleaned"
      ],
      "execution_count": 5,
      "outputs": [
        {
          "output_type": "stream",
          "name": "stderr",
          "text": [
            "<ipython-input-5-9269baa0202d>:27: FutureWarning: DataFrame.applymap has been deprecated. Use DataFrame.map instead.\n",
            "  df_cleaned = df.applymap(clean_text)\n"
          ]
        },
        {
          "output_type": "execute_result",
          "data": {
            "text/plain": [
              "           links                                              texts\n",
              "0  #main-content  Comunidad de Madrid | Pasar al contenido princ...\n",
              "1              /  Comunidad de Madrid | Pasar al contenido princ...\n",
              "2     /servicios  Servicios e información | Comunidad de Madrid ...\n",
              "3       /cultura  Cultura y Turismo | Comunidad de Madrid Pasar ...\n",
              "4     /inversion  Inversión y empresa | Comunidad de Madrid Pasa...\n",
              "5      /gobierno  Acción de gobierno | Comunidad de Madrid Pasar...\n",
              "7                 Página no encontrada | Comunidad de Madrid Pas...\n",
              "8                 Página no encontrada | Comunidad de Madrid Pas..."
            ],
            "text/html": [
              "\n",
              "  <div id=\"df-682138fb-4b73-463a-a51d-128c3220f0e0\" class=\"colab-df-container\">\n",
              "    <div>\n",
              "<style scoped>\n",
              "    .dataframe tbody tr th:only-of-type {\n",
              "        vertical-align: middle;\n",
              "    }\n",
              "\n",
              "    .dataframe tbody tr th {\n",
              "        vertical-align: top;\n",
              "    }\n",
              "\n",
              "    .dataframe thead th {\n",
              "        text-align: right;\n",
              "    }\n",
              "</style>\n",
              "<table border=\"1\" class=\"dataframe\">\n",
              "  <thead>\n",
              "    <tr style=\"text-align: right;\">\n",
              "      <th></th>\n",
              "      <th>links</th>\n",
              "      <th>texts</th>\n",
              "    </tr>\n",
              "  </thead>\n",
              "  <tbody>\n",
              "    <tr>\n",
              "      <th>0</th>\n",
              "      <td>#main-content</td>\n",
              "      <td>Comunidad de Madrid | Pasar al contenido princ...</td>\n",
              "    </tr>\n",
              "    <tr>\n",
              "      <th>1</th>\n",
              "      <td>/</td>\n",
              "      <td>Comunidad de Madrid | Pasar al contenido princ...</td>\n",
              "    </tr>\n",
              "    <tr>\n",
              "      <th>2</th>\n",
              "      <td>/servicios</td>\n",
              "      <td>Servicios e información | Comunidad de Madrid ...</td>\n",
              "    </tr>\n",
              "    <tr>\n",
              "      <th>3</th>\n",
              "      <td>/cultura</td>\n",
              "      <td>Cultura y Turismo | Comunidad de Madrid Pasar ...</td>\n",
              "    </tr>\n",
              "    <tr>\n",
              "      <th>4</th>\n",
              "      <td>/inversion</td>\n",
              "      <td>Inversión y empresa | Comunidad de Madrid Pasa...</td>\n",
              "    </tr>\n",
              "    <tr>\n",
              "      <th>5</th>\n",
              "      <td>/gobierno</td>\n",
              "      <td>Acción de gobierno | Comunidad de Madrid Pasar...</td>\n",
              "    </tr>\n",
              "    <tr>\n",
              "      <th>7</th>\n",
              "      <td></td>\n",
              "      <td>Página no encontrada | Comunidad de Madrid Pas...</td>\n",
              "    </tr>\n",
              "    <tr>\n",
              "      <th>8</th>\n",
              "      <td></td>\n",
              "      <td>Página no encontrada | Comunidad de Madrid Pas...</td>\n",
              "    </tr>\n",
              "  </tbody>\n",
              "</table>\n",
              "</div>\n",
              "    <div class=\"colab-df-buttons\">\n",
              "\n",
              "  <div class=\"colab-df-container\">\n",
              "    <button class=\"colab-df-convert\" onclick=\"convertToInteractive('df-682138fb-4b73-463a-a51d-128c3220f0e0')\"\n",
              "            title=\"Convert this dataframe to an interactive table.\"\n",
              "            style=\"display:none;\">\n",
              "\n",
              "  <svg xmlns=\"http://www.w3.org/2000/svg\" height=\"24px\" viewBox=\"0 -960 960 960\">\n",
              "    <path d=\"M120-120v-720h720v720H120Zm60-500h600v-160H180v160Zm220 220h160v-160H400v160Zm0 220h160v-160H400v160ZM180-400h160v-160H180v160Zm440 0h160v-160H620v160ZM180-180h160v-160H180v160Zm440 0h160v-160H620v160Z\"/>\n",
              "  </svg>\n",
              "    </button>\n",
              "\n",
              "  <style>\n",
              "    .colab-df-container {\n",
              "      display:flex;\n",
              "      gap: 12px;\n",
              "    }\n",
              "\n",
              "    .colab-df-convert {\n",
              "      background-color: #E8F0FE;\n",
              "      border: none;\n",
              "      border-radius: 50%;\n",
              "      cursor: pointer;\n",
              "      display: none;\n",
              "      fill: #1967D2;\n",
              "      height: 32px;\n",
              "      padding: 0 0 0 0;\n",
              "      width: 32px;\n",
              "    }\n",
              "\n",
              "    .colab-df-convert:hover {\n",
              "      background-color: #E2EBFA;\n",
              "      box-shadow: 0px 1px 2px rgba(60, 64, 67, 0.3), 0px 1px 3px 1px rgba(60, 64, 67, 0.15);\n",
              "      fill: #174EA6;\n",
              "    }\n",
              "\n",
              "    .colab-df-buttons div {\n",
              "      margin-bottom: 4px;\n",
              "    }\n",
              "\n",
              "    [theme=dark] .colab-df-convert {\n",
              "      background-color: #3B4455;\n",
              "      fill: #D2E3FC;\n",
              "    }\n",
              "\n",
              "    [theme=dark] .colab-df-convert:hover {\n",
              "      background-color: #434B5C;\n",
              "      box-shadow: 0px 1px 3px 1px rgba(0, 0, 0, 0.15);\n",
              "      filter: drop-shadow(0px 1px 2px rgba(0, 0, 0, 0.3));\n",
              "      fill: #FFFFFF;\n",
              "    }\n",
              "  </style>\n",
              "\n",
              "    <script>\n",
              "      const buttonEl =\n",
              "        document.querySelector('#df-682138fb-4b73-463a-a51d-128c3220f0e0 button.colab-df-convert');\n",
              "      buttonEl.style.display =\n",
              "        google.colab.kernel.accessAllowed ? 'block' : 'none';\n",
              "\n",
              "      async function convertToInteractive(key) {\n",
              "        const element = document.querySelector('#df-682138fb-4b73-463a-a51d-128c3220f0e0');\n",
              "        const dataTable =\n",
              "          await google.colab.kernel.invokeFunction('convertToInteractive',\n",
              "                                                    [key], {});\n",
              "        if (!dataTable) return;\n",
              "\n",
              "        const docLinkHtml = 'Like what you see? Visit the ' +\n",
              "          '<a target=\"_blank\" href=https://colab.research.google.com/notebooks/data_table.ipynb>data table notebook</a>'\n",
              "          + ' to learn more about interactive tables.';\n",
              "        element.innerHTML = '';\n",
              "        dataTable['output_type'] = 'display_data';\n",
              "        await google.colab.output.renderOutput(dataTable, element);\n",
              "        const docLink = document.createElement('div');\n",
              "        docLink.innerHTML = docLinkHtml;\n",
              "        element.appendChild(docLink);\n",
              "      }\n",
              "    </script>\n",
              "  </div>\n",
              "\n",
              "\n",
              "<div id=\"df-565b36a2-a1fb-4616-beed-27f063c4efd5\">\n",
              "  <button class=\"colab-df-quickchart\" onclick=\"quickchart('df-565b36a2-a1fb-4616-beed-27f063c4efd5')\"\n",
              "            title=\"Suggest charts\"\n",
              "            style=\"display:none;\">\n",
              "\n",
              "<svg xmlns=\"http://www.w3.org/2000/svg\" height=\"24px\"viewBox=\"0 0 24 24\"\n",
              "     width=\"24px\">\n",
              "    <g>\n",
              "        <path d=\"M19 3H5c-1.1 0-2 .9-2 2v14c0 1.1.9 2 2 2h14c1.1 0 2-.9 2-2V5c0-1.1-.9-2-2-2zM9 17H7v-7h2v7zm4 0h-2V7h2v10zm4 0h-2v-4h2v4z\"/>\n",
              "    </g>\n",
              "</svg>\n",
              "  </button>\n",
              "\n",
              "<style>\n",
              "  .colab-df-quickchart {\n",
              "      --bg-color: #E8F0FE;\n",
              "      --fill-color: #1967D2;\n",
              "      --hover-bg-color: #E2EBFA;\n",
              "      --hover-fill-color: #174EA6;\n",
              "      --disabled-fill-color: #AAA;\n",
              "      --disabled-bg-color: #DDD;\n",
              "  }\n",
              "\n",
              "  [theme=dark] .colab-df-quickchart {\n",
              "      --bg-color: #3B4455;\n",
              "      --fill-color: #D2E3FC;\n",
              "      --hover-bg-color: #434B5C;\n",
              "      --hover-fill-color: #FFFFFF;\n",
              "      --disabled-bg-color: #3B4455;\n",
              "      --disabled-fill-color: #666;\n",
              "  }\n",
              "\n",
              "  .colab-df-quickchart {\n",
              "    background-color: var(--bg-color);\n",
              "    border: none;\n",
              "    border-radius: 50%;\n",
              "    cursor: pointer;\n",
              "    display: none;\n",
              "    fill: var(--fill-color);\n",
              "    height: 32px;\n",
              "    padding: 0;\n",
              "    width: 32px;\n",
              "  }\n",
              "\n",
              "  .colab-df-quickchart:hover {\n",
              "    background-color: var(--hover-bg-color);\n",
              "    box-shadow: 0 1px 2px rgba(60, 64, 67, 0.3), 0 1px 3px 1px rgba(60, 64, 67, 0.15);\n",
              "    fill: var(--button-hover-fill-color);\n",
              "  }\n",
              "\n",
              "  .colab-df-quickchart-complete:disabled,\n",
              "  .colab-df-quickchart-complete:disabled:hover {\n",
              "    background-color: var(--disabled-bg-color);\n",
              "    fill: var(--disabled-fill-color);\n",
              "    box-shadow: none;\n",
              "  }\n",
              "\n",
              "  .colab-df-spinner {\n",
              "    border: 2px solid var(--fill-color);\n",
              "    border-color: transparent;\n",
              "    border-bottom-color: var(--fill-color);\n",
              "    animation:\n",
              "      spin 1s steps(1) infinite;\n",
              "  }\n",
              "\n",
              "  @keyframes spin {\n",
              "    0% {\n",
              "      border-color: transparent;\n",
              "      border-bottom-color: var(--fill-color);\n",
              "      border-left-color: var(--fill-color);\n",
              "    }\n",
              "    20% {\n",
              "      border-color: transparent;\n",
              "      border-left-color: var(--fill-color);\n",
              "      border-top-color: var(--fill-color);\n",
              "    }\n",
              "    30% {\n",
              "      border-color: transparent;\n",
              "      border-left-color: var(--fill-color);\n",
              "      border-top-color: var(--fill-color);\n",
              "      border-right-color: var(--fill-color);\n",
              "    }\n",
              "    40% {\n",
              "      border-color: transparent;\n",
              "      border-right-color: var(--fill-color);\n",
              "      border-top-color: var(--fill-color);\n",
              "    }\n",
              "    60% {\n",
              "      border-color: transparent;\n",
              "      border-right-color: var(--fill-color);\n",
              "    }\n",
              "    80% {\n",
              "      border-color: transparent;\n",
              "      border-right-color: var(--fill-color);\n",
              "      border-bottom-color: var(--fill-color);\n",
              "    }\n",
              "    90% {\n",
              "      border-color: transparent;\n",
              "      border-bottom-color: var(--fill-color);\n",
              "    }\n",
              "  }\n",
              "</style>\n",
              "\n",
              "  <script>\n",
              "    async function quickchart(key) {\n",
              "      const quickchartButtonEl =\n",
              "        document.querySelector('#' + key + ' button');\n",
              "      quickchartButtonEl.disabled = true;  // To prevent multiple clicks.\n",
              "      quickchartButtonEl.classList.add('colab-df-spinner');\n",
              "      try {\n",
              "        const charts = await google.colab.kernel.invokeFunction(\n",
              "            'suggestCharts', [key], {});\n",
              "      } catch (error) {\n",
              "        console.error('Error during call to suggestCharts:', error);\n",
              "      }\n",
              "      quickchartButtonEl.classList.remove('colab-df-spinner');\n",
              "      quickchartButtonEl.classList.add('colab-df-quickchart-complete');\n",
              "    }\n",
              "    (() => {\n",
              "      let quickchartButtonEl =\n",
              "        document.querySelector('#df-565b36a2-a1fb-4616-beed-27f063c4efd5 button');\n",
              "      quickchartButtonEl.style.display =\n",
              "        google.colab.kernel.accessAllowed ? 'block' : 'none';\n",
              "    })();\n",
              "  </script>\n",
              "</div>\n",
              "\n",
              "  <div id=\"id_7844133a-0aca-4531-b84e-971c7553a1c2\">\n",
              "    <style>\n",
              "      .colab-df-generate {\n",
              "        background-color: #E8F0FE;\n",
              "        border: none;\n",
              "        border-radius: 50%;\n",
              "        cursor: pointer;\n",
              "        display: none;\n",
              "        fill: #1967D2;\n",
              "        height: 32px;\n",
              "        padding: 0 0 0 0;\n",
              "        width: 32px;\n",
              "      }\n",
              "\n",
              "      .colab-df-generate:hover {\n",
              "        background-color: #E2EBFA;\n",
              "        box-shadow: 0px 1px 2px rgba(60, 64, 67, 0.3), 0px 1px 3px 1px rgba(60, 64, 67, 0.15);\n",
              "        fill: #174EA6;\n",
              "      }\n",
              "\n",
              "      [theme=dark] .colab-df-generate {\n",
              "        background-color: #3B4455;\n",
              "        fill: #D2E3FC;\n",
              "      }\n",
              "\n",
              "      [theme=dark] .colab-df-generate:hover {\n",
              "        background-color: #434B5C;\n",
              "        box-shadow: 0px 1px 3px 1px rgba(0, 0, 0, 0.15);\n",
              "        filter: drop-shadow(0px 1px 2px rgba(0, 0, 0, 0.3));\n",
              "        fill: #FFFFFF;\n",
              "      }\n",
              "    </style>\n",
              "    <button class=\"colab-df-generate\" onclick=\"generateWithVariable('df_cleaned')\"\n",
              "            title=\"Generate code using this dataframe.\"\n",
              "            style=\"display:none;\">\n",
              "\n",
              "  <svg xmlns=\"http://www.w3.org/2000/svg\" height=\"24px\"viewBox=\"0 0 24 24\"\n",
              "       width=\"24px\">\n",
              "    <path d=\"M7,19H8.4L18.45,9,17,7.55,7,17.6ZM5,21V16.75L18.45,3.32a2,2,0,0,1,2.83,0l1.4,1.43a1.91,1.91,0,0,1,.58,1.4,1.91,1.91,0,0,1-.58,1.4L9.25,21ZM18.45,9,17,7.55Zm-12,3A5.31,5.31,0,0,0,4.9,8.1,5.31,5.31,0,0,0,1,6.5,5.31,5.31,0,0,0,4.9,4.9,5.31,5.31,0,0,0,6.5,1,5.31,5.31,0,0,0,8.1,4.9,5.31,5.31,0,0,0,12,6.5,5.46,5.46,0,0,0,6.5,12Z\"/>\n",
              "  </svg>\n",
              "    </button>\n",
              "    <script>\n",
              "      (() => {\n",
              "      const buttonEl =\n",
              "        document.querySelector('#id_7844133a-0aca-4531-b84e-971c7553a1c2 button.colab-df-generate');\n",
              "      buttonEl.style.display =\n",
              "        google.colab.kernel.accessAllowed ? 'block' : 'none';\n",
              "\n",
              "      buttonEl.onclick = () => {\n",
              "        google.colab.notebook.generateWithVariable('df_cleaned');\n",
              "      }\n",
              "      })();\n",
              "    </script>\n",
              "  </div>\n",
              "\n",
              "    </div>\n",
              "  </div>\n"
            ],
            "application/vnd.google.colaboratory.intrinsic+json": {
              "type": "dataframe",
              "variable_name": "df_cleaned",
              "summary": "{\n  \"name\": \"df_cleaned\",\n  \"rows\": 8,\n  \"fields\": [\n    {\n      \"column\": \"links\",\n      \"properties\": {\n        \"dtype\": \"string\",\n        \"num_unique_values\": 7,\n        \"samples\": [\n          \"#main-content\",\n          \"/\",\n          \"/gobierno\"\n        ],\n        \"semantic_type\": \"\",\n        \"description\": \"\"\n      }\n    },\n    {\n      \"column\": \"texts\",\n      \"properties\": {\n        \"dtype\": \"string\",\n        \"num_unique_values\": 6,\n        \"samples\": [\n          \"Comunidad de Madrid | Pasar al contenido principal Inicio Men\\u00fa principal Servicios e informaci\\u00f3n Cultura y turismo Inversi\\u00f3n y empresa Acci\\u00f3n de gobierno Buscar en comunidad.madrid Aplicar Limpiar Home Bienvenidos a comunidad.madrid \\u00bfQu\\u00e9 est\\u00e1s buscando? Buscar en comunidad.madrid Aplicar Limpiar Twitter Instagram Facebook LinkedIn Whatssap Tiktok Telegram Threads Flickr Youtube Te puede interesar Atenci\\u00f3n al Ciudadano Inicio del curso /25 Plan Empleo Joven /25 Plan INUNCAM PrensaRecursos para periodistas y medios de comunicaci\\u00f3n Ir a prensa AgendaPrevisiones del Gobierno de la Comunidad de Madrid Ir a agenda BOCMBolet\\u00edn Oficial de la Comunidad de Madrid Ir a BOCM Buscador de Tr\\u00e1mitesAcceso a todos los tr\\u00e1mites en la administraci\\u00f3n digital Ir a Tr\\u00e1mites Administraci\\u00f3n Digital Buscador de ayudas para el fomento de la natalidad Cita Sanitaria L\\u00ednea abierta contra la hiperregulaci\\u00f3n Cita Previa Atenci\\u00f3n al Ciudadano Identifica Calculadora de Impuestos Ver todas las novedades Noticias La Comunidad de Madrid invierte 47,3 millones de euros para incrementar su parque de vivienda socialSe pondr\\u00e1n a disposici\\u00f3n de familias vulnerables, cuyos ingresos no superen 3,5 veces el IPREM, en r\\u00e9gimen de alquiler. La Comunidad de Madrid concede la Medalla Internacional de las Artes a Manuel AlejandroPor su contribuci\\u00f3n al fomento de la lengua espa\\u00f1ola y la hispanidad a trav\\u00e9s de letras de \\u00e9xito que han sonado por todo el mundo. La Comunidad de Madrid ampl\\u00eda los horarios del Centro de Atenci\\u00f3n Diurna para pacientes de #ELALa presidenta Isabel D\\u00edaz Ayuso ha recorrido las instalaciones con Jordi Sabat\\u00e9, un referente en la lucha de esta enfermedad. M\\u00e1s actualidad Destacados Maternidad y paternidadInformaci\\u00f3n y recursos sobre ayudas para las familias, reproducci\\u00f3n asistida, adopci\\u00f3n, cuidados infantiles... Pacto Regional por la ViviendaPlan de choque con nuevas medidas de impulso para la vivienda en la Comunidad de Madrid Nuevo mapa concesionalConsulta las nuevas l\\u00edneas de transporte regular de viajeros por carretera en autobuses interurbanos y urbanos. Oficinas m\\u00f3vilesUn nuevo servicio de Atenci\\u00f3n al Ciudadano para dar cobertura a los municipios con menos de 20.000 habitantes Equipo de Gobierno image_link_banner_texto_inferior_parrafoEquipo de gobierno Gobierno abierto - Transparencia Plan de gobierno Contacta con nosotros 012Informaci\\u00f3n y Atenci\\u00f3n al Ciudadano 900 102 112Solicitud de cita sanitaria 112Tel\\u00e9fono de emergencias Otros tel\\u00e9fonosOtros servicios y contactos Servicios e Informaci\\u00f3n Consejo de Transparencia y Protecci\\u00f3n de Datos Atenci\\u00f3n al ciudadano Salud Educaci\\u00f3n Servicios sociales Empleo Justicia Vivienda Transporte Urbanismo y medio ambiente Medio rural Consumo Atenci\\u00f3n al contribuyente Deportes Juventud Madrid en el mundo Asociaciones, Fundaciones y Colegios Profesionales Municipios Seguridad y emergencias: ASEM 112 112 Mapas PublicaMadrid Cultura y Turismo Oferta cultural y de ocio Actividades al aire libre y deporte Patrimonio cultural Compras Gastronom\\u00eda Organiza tu visita Inversi\\u00f3n y Empresa Energ\\u00eda \\u00bfPor qu\\u00e9 Madrid? Inicia y desarrolla tu empresa Innova Comercio Industria Relaci\\u00f3n con inversores Sectores destacados Estrategia S3 Prevenci\\u00f3n de riesgos laborales Acci\\u00f3n de Gobierno Digitalizaci\\u00f3n Hacienda Participaci\\u00f3n Actualidad Espacios profesionales La Instituci\\u00f3n Informaci\\u00f3n jur\\u00eddica y legislaci\\u00f3n Estad\\u00edsticas Datos abiertos Recursos para medios de comunicaci\\u00f3n BOCM Contacta Reclamaciones y sugerencias Redes sociales Centros Actividades RSS Navegaci\\u00f3n Aviso Legal Mapa web Accesibilidad WAI-AA Todos los portales de la Comunidad de Madrid\",\n          \"Servicios e informaci\\u00f3n | Comunidad de Madrid Pasar al contenido principal Inicio Men\\u00fa principal Servicios e informaci\\u00f3n Cultura y turismo Inversi\\u00f3n y empresa Acci\\u00f3n de gobierno Buscar en comunidad.madrid Aplicar Limpiar Servicios e informaci\\u00f3n Servicios e informaci\\u00f3n Buscar en comunidad.madrid Aplicar Limpiar Twitter Instagram Facebook LinkedIn Whatssap Tiktok Telegram Threads Flickr Youtube Cita sanitaria Prevenci\\u00f3n de riesgos laborales Calendario escolar Apps transporte p\\u00fablico Atenci\\u00f3n al ciudadano Ayudas alquiler vivienda Familias numerosas Impuesto de sucesiones Igualdad y violencia de g\\u00e9nero Sede electr\\u00f3nica Temas de inter\\u00e9s para residentes Salud Educaci\\u00f3n Servicios sociales Empleo Justicia Transporte Ver m\\u00e1s temas de inter\\u00e9s para residentes Vivienda Urbanismo y medio ambiente Medio rural Consumo Atenci\\u00f3n al contribuyente Deportes Juventud Asociaciones, Fundaciones y Colegios Profesionales Municipios Mapas PublicaMadrid Seguridad y emergencias: ASEM 112 112 Te interesa Contrataci\\u00f3n personas con discapacidad y otros colectivos vulnerablesIncentivos para el fomento de la contrataci\\u00f3n de personas con discapacidad y otros colectivos especialmente vulnerables Libre elecci\\u00f3n sanitariaA trav\\u00e9s de esta p\\u00e1gina, se pone a disposici\\u00f3n de los ciudadanos informaci\\u00f3n acerca de los centros y profesionales del sistema sanitario p\\u00fablico... Gu\\u00eda pr\\u00e1ctica sobre dependenciaLa dependencia es el estado de car\\u00e1cter permanente en que se encuentran las personas que, por razones derivadas de la edad, la enfermedad... Acreditaci\\u00f3n de la experiencia laboralAcredita tu experiencia laboral a trav\\u00e9s del procedimiento de acreditaci\\u00f3n de las competencias profesionales Actualidad La Comunidad de Madrid aumenta un 37% su inversi\\u00f3n en ayudas para incentivar la contrataci\\u00f3n y formaci\\u00f3n de j\\u00f3venes18/09/ . La Comunidad de Madrid incrementa un 37% su inversi\\u00f3n este a\\u00f1o en ayudas para dos programas de fomento del empleo a j\\u00f3venes parados menores de 30 a\\u00f1os. Este aumento se produce con la aportaci\\u00f3n... La Comunidad de Madrid ampl\\u00eda en 6 millones de euros su inversi\\u00f3n para ayudas de dependencia18/09/ . El Consejo de Gobierno de la Comunidad de Madrid ha autorizado hoy ampliar con 6 millones de euros su inversi\\u00f3n para las prestaciones econ\\u00f3micas a los ciudadanos beneficiarios del cat\\u00e1logo del... La Comunidad de Madrid invierte 2.440 millones en Metro para seguir mejorando y reforzando el transporte p\\u00fablico 18/09/ . La Comunidad de Madrid invierte 2.440 millones de euros en Metro este a\\u00f1o para seguir mejorando y reforzando la calidad de este transporte p\\u00fablico, referente a escala internacional por su eficacia de... La Comunidad de Madrid invierte 47,3 millones de euros para incrementar su parque de vivienda social18/09/ . La Comunidad de Madrid invertir\\u00e1 47,3 millones de euros para incrementar su parque de vivienda social en r\\u00e9gimen de alquiler que pone a disposici\\u00f3n de familias vulnerables a trav\\u00e9s de la Agencia de... + Actualidad Te ayudamos He tenido un hijoTener un hijo supone realizar varios tr\\u00e1mites administrativos. Aqu\\u00ed tienes toda la informaci\\u00f3n. ... Quiero montar una empresaTe ayudamos a agilizar la apertura de tu negocio. Necesito una viviendaQueremos ayudarte proporcion\\u00e1ndote informaci\\u00f3n relativa a la compra o el alquiler de una vivienda Ha fallecido un familiarEl fallecimiento de un familiar genera sentimientos de tristeza e inseguridades que se ven aumentados por la abrumadora lista de tr\\u00e1mites a realizar. Queremos ayudarle. Quiero acoger un ni\\u00f1o En la Comunidad de Madrid hay ni\\u00f1os, ni\\u00f1as y adolescentes que, por diversas circunstancias, no pueden vivir con sus familias. T\\u00fa puedes proporcionarles una familia con la que vivir. Tengo un familiar dependienteSi tiene un familiar que, por edad, enfermedad o discapacidad, precisa de la atenci\\u00f3n de otra persona para realizar las actividades b\\u00e1sicas de la vida diaria, puede solicitar la situaci\\u00f3n de... Lo m\\u00e1s solicitado Ayudas e incentivos para el empleo Mi carpeta de salud Resuelve Servicio de presentaci\\u00f3n de solicitudesPara presentar una solicitud por Registro electr\\u00f3nico, es necesario estar en posesi\\u00f3n del DNIe o disponer de uno de los certificados electr\\u00f3nicos r Aportaci\\u00f3n de documentosEl servicio de \\u201caportaci\\u00f3n de documentos\\\", ofrece la posibilidad de incorporar nueva documentaci\\u00f3n a los expedientes abiertos con la Comunidad de M Sede JudicialLa Sede Judicial Electr\\u00f3nica es la direcci\\u00f3n electr\\u00f3nica de la Administraci\\u00f3n de Justicia en el \\u00e1mbito de la Comunidad de Madrid. VER + Servicios e Informaci\\u00f3n Consejo de Transparencia y Protecci\\u00f3n de Datos Atenci\\u00f3n al ciudadano Salud Educaci\\u00f3n Servicios sociales Empleo Justicia Vivienda Transporte Urbanismo y medio ambiente Medio rural Consumo Atenci\\u00f3n al contribuyente Deportes Juventud Madrid en el mundo Asociaciones, Fundaciones y Colegios Profesionales Municipios Seguridad y emergencias: ASEM 112 112 Mapas PublicaMadrid Cultura y Turismo Oferta cultural y de ocio Actividades al aire libre y deporte Patrimonio cultural Compras Gastronom\\u00eda Organiza tu visita Inversi\\u00f3n y Empresa Energ\\u00eda \\u00bfPor qu\\u00e9 Madrid? Inicia y desarrolla tu empresa Innova Comercio Industria Relaci\\u00f3n con inversores Sectores destacados Estrategia S3 Prevenci\\u00f3n de riesgos laborales Acci\\u00f3n de Gobierno Digitalizaci\\u00f3n Hacienda Participaci\\u00f3n Actualidad Espacios profesionales La Instituci\\u00f3n Informaci\\u00f3n jur\\u00eddica y legislaci\\u00f3n Estad\\u00edsticas Datos abiertos Recursos para medios de comunicaci\\u00f3n BOCM Contacta Reclamaciones y sugerencias Redes sociales Centros Actividades RSS Navegaci\\u00f3n Aviso Legal Mapa web Accesibilidad WAI-AA Todos los portales de la Comunidad de Madrid\",\n          \"P\\u00e1gina no encontrada | Comunidad de Madrid Pasar al contenido principal Inicio Men\\u00fa principal Servicios e informaci\\u00f3n Cultura y turismo Inversi\\u00f3n y empresa Acci\\u00f3n de gobierno Buscar en comunidad.madrid Aplicar Limpiar P\\u00e1gina no encontrada P\\u00e1gina no encontrada La p\\u00e1gina que ha intentado acceder no est\\u00e1 disponible. Servicios e Informaci\\u00f3n Consejo de Transparencia y Protecci\\u00f3n de Datos Atenci\\u00f3n al ciudadano Salud Educaci\\u00f3n Servicios sociales Empleo Justicia Vivienda Transporte Urbanismo y medio ambiente Medio rural Consumo Atenci\\u00f3n al contribuyente Deportes Juventud Madrid en el mundo Asociaciones, Fundaciones y Colegios Profesionales Municipios Seguridad y emergencias: ASEM 112 112 Mapas PublicaMadrid Cultura y Turismo Oferta cultural y de ocio Actividades al aire libre y deporte Patrimonio cultural Compras Gastronom\\u00eda Organiza tu visita Inversi\\u00f3n y Empresa Energ\\u00eda \\u00bfPor qu\\u00e9 Madrid? Inicia y desarrolla tu empresa Innova Comercio Industria Relaci\\u00f3n con inversores Sectores destacados Estrategia S3 Prevenci\\u00f3n de riesgos laborales Acci\\u00f3n de Gobierno Digitalizaci\\u00f3n Hacienda Participaci\\u00f3n Actualidad Espacios profesionales La Instituci\\u00f3n Informaci\\u00f3n jur\\u00eddica y legislaci\\u00f3n Estad\\u00edsticas Datos abiertos Recursos para medios de comunicaci\\u00f3n BOCM Contacta Reclamaciones y sugerencias Redes sociales Centros Actividades RSS Navegaci\\u00f3n Aviso Legal Mapa web Accesibilidad WAI-AA Todos los portales de la Comunidad de Madrid\"\n        ],\n        \"semantic_type\": \"\",\n        \"description\": \"\"\n      }\n    }\n  ]\n}"
            }
          },
          "metadata": {},
          "execution_count": 5
        }
      ]
    },
    {
      "cell_type": "code",
      "metadata": {
        "source_hash": null,
        "execution_start": 1699305794433,
        "execution_millis": 51,
        "deepnote_table_state": {
          "sortBy": [
            {
              "id": "links",
              "type": "desc"
            }
          ],
          "filters": [],
          "pageSize": 100,
          "pageIndex": 0
        },
        "deepnote_table_loading": false,
        "deepnote_app_coordinates": {
          "h": 5,
          "w": 12,
          "x": 0,
          "y": 0
        },
        "deepnote_to_be_reexecuted": false,
        "deepnote_app_is_code_hidden": false,
        "cell_id": "c6233c1833524ce682a25804c7148390",
        "deepnote_cell_type": "code",
        "id": "ggwuA2IPdOWd"
      },
      "source": [
        "#Calculamos número de oraciones por página y lecturabilidad\n",
        "df['num oraciones'] = df['texts'].astype(str).apply(lambda x: textstat.sentence_count(x) if x else 0)\n",
        "df['num palabras'] = df['texts'].astype(str).apply(lambda x: textstat.lexicon_count(x, removepunct=True) if x else 0)\n",
        "df['palabras/oración'] = df['num palabras'].divide(df['num oraciones'])\n",
        "df['fdz huerta'] = df['texts'].astype(str).apply(lambda x: textstat.fernandez_huerta(x) if x else 0)\n",
        "df['tiempo lectura'] = df['texts'].astype(str).apply(lambda x: textstat.reading_time(x, ms_per_char=14.69) if x else 0)\n",
        "df.head()\n"
      ],
      "execution_count": null,
      "outputs": []
    },
    {
      "cell_type": "code",
      "metadata": {
        "source_hash": null,
        "execution_start": 1699305057149,
        "execution_millis": 6,
        "deepnote_app_coordinates": {
          "h": 5,
          "w": 12,
          "x": 0,
          "y": 0
        },
        "deepnote_to_be_reexecuted": false,
        "deepnote_app_is_code_hidden": false,
        "cell_id": "db6638f8d8a04d8d926067d7a6d92f14",
        "deepnote_cell_type": "code",
        "id": "2GmLOPE1dOWe"
      },
      "source": [
        "df['fdz huerta'].hist()"
      ],
      "execution_count": null,
      "outputs": []
    },
    {
      "cell_type": "markdown",
      "metadata": {
        "formattedRanges": [],
        "deepnote_app_coordinates": {
          "h": 2,
          "w": 8,
          "x": 0,
          "y": 0
        },
        "cell_id": "fc28daf2ed5141b7a27a0d652614625d",
        "deepnote_cell_type": "text-cell-p",
        "id": "ve5ACKIMdOWe"
      },
      "source": []
    },
    {
      "cell_type": "code",
      "metadata": {
        "source_hash": null,
        "execution_start": 1699302774298,
        "execution_millis": 512,
        "deepnote_app_coordinates": {
          "h": 5,
          "w": 12,
          "x": 0,
          "y": 0
        },
        "deepnote_to_be_reexecuted": false,
        "deepnote_app_is_code_hidden": false,
        "cell_id": "fe46edd5720141bba222134a046472d7",
        "deepnote_cell_type": "code",
        "id": "FCu17xBIdOWe"
      },
      "source": [
        "#Guardamos la tabla en un fichero csv\n",
        "df.to_csv(\"\")"
      ],
      "execution_count": null,
      "outputs": []
    },
    {
      "cell_type": "code",
      "metadata": {
        "source_hash": null,
        "execution_start": 1699304096498,
        "execution_millis": 10,
        "deepnote_app_coordinates": {
          "h": 5,
          "w": 12,
          "x": 0,
          "y": 0
        },
        "deepnote_to_be_reexecuted": false,
        "cell_id": "40231211802f426e9380f8678dbbbf1d",
        "deepnote_cell_type": "code",
        "id": "yL-P4iozdOWe"
      },
      "source": [
        "print ('media de oraciones por archivo:')\n",
        "print (round (df['num sentences'].mean(),0))\n",
        "print ('media de nivel de lectura:')\n",
        "print(round(df['fdz huerta'].mean(), 0))\n",
        "print ('media de tiempo de lectura (segundos):')\n",
        "print(round(df['tiempo lectura'].mean(), 0))\n",
        "\n"
      ],
      "execution_count": null,
      "outputs": []
    },
    {
      "cell_type": "code",
      "metadata": {
        "source_hash": null,
        "execution_start": 1699304603443,
        "execution_millis": 501,
        "deepnote_app_coordinates": {
          "h": 5,
          "w": 12,
          "x": 0,
          "y": 0
        },
        "deepnote_to_be_reexecuted": false,
        "cell_id": "1445f30750424bbf9911418dc39b9b9a",
        "deepnote_cell_type": "code",
        "id": "R0ew174ZdOWf"
      },
      "source": [
        "df['fdz huerta'].plot.bar()"
      ],
      "execution_count": null,
      "outputs": []
    },
    {
      "cell_type": "markdown",
      "metadata": {
        "formattedRanges": [],
        "deepnote_app_coordinates": {
          "h": 2,
          "w": 8,
          "x": 0,
          "y": 0
        },
        "cell_id": "a9c1894b87d947e288ce2a0d3918e34e",
        "deepnote_cell_type": "text-cell-p",
        "id": "e6OpBYqSdOWf"
      },
      "source": []
    },
    {
      "cell_type": "markdown",
      "source": [
        "<a style='text-decoration:none;line-height:16px;display:flex;color:#5B5B62;padding:10px;justify-content:end;' href='https://deepnote.com?utm_source=created-in-deepnote-cell&projectId=a2326c74-8155-424a-a9ea-889ef1bb8e18' target=\"_blank\">\n",
        "<img alt='Created in deepnote.com' style='display:inline;max-height:16px;margin:0px;margin-right:7.5px;' src='data:image/svg+xml;base64,PD94bWwgdmVyc2lvbj0iMS4wIiBlbmNvZGluZz0iVVRGLTgiPz4KPHN2ZyB3aWR0aD0iODBweCIgaGVpZ2h0PSI4MHB4IiB2aWV3Qm94PSIwIDAgODAgODAiIHZlcnNpb249IjEuMSIgeG1sbnM9Imh0dHA6Ly93d3cudzMub3JnLzIwMDAvc3ZnIiB4bWxuczp4bGluaz0iaHR0cDovL3d3dy53My5vcmcvMTk5OS94bGluayI+CiAgICA8IS0tIEdlbmVyYXRvcjogU2tldGNoIDU0LjEgKDc2NDkwKSAtIGh0dHBzOi8vc2tldGNoYXBwLmNvbSAtLT4KICAgIDx0aXRsZT5Hcm91cCAzPC90aXRsZT4KICAgIDxkZXNjPkNyZWF0ZWQgd2l0aCBTa2V0Y2guPC9kZXNjPgogICAgPGcgaWQ9IkxhbmRpbmciIHN0cm9rZT0ibm9uZSIgc3Ryb2tlLXdpZHRoPSIxIiBmaWxsPSJub25lIiBmaWxsLXJ1bGU9ImV2ZW5vZGQiPgogICAgICAgIDxnIGlkPSJBcnRib2FyZCIgdHJhbnNmb3JtPSJ0cmFuc2xhdGUoLTEyMzUuMDAwMDAwLCAtNzkuMDAwMDAwKSI+CiAgICAgICAgICAgIDxnIGlkPSJHcm91cC0zIiB0cmFuc2Zvcm09InRyYW5zbGF0ZSgxMjM1LjAwMDAwMCwgNzkuMDAwMDAwKSI+CiAgICAgICAgICAgICAgICA8cG9seWdvbiBpZD0iUGF0aC0yMCIgZmlsbD0iIzAyNjVCNCIgcG9pbnRzPSIyLjM3NjIzNzYyIDgwIDM4LjA0NzY2NjcgODAgNTcuODIxNzgyMiA3My44MDU3NTkyIDU3LjgyMTc4MjIgMzIuNzU5MjczOSAzOS4xNDAyMjc4IDMxLjY4MzE2ODMiPjwvcG9seWdvbj4KICAgICAgICAgICAgICAgIDxwYXRoIGQ9Ik0zNS4wMDc3MTgsODAgQzQyLjkwNjIwMDcsNzYuNDU0OTM1OCA0Ny41NjQ5MTY3LDcxLjU0MjI2NzEgNDguOTgzODY2LDY1LjI2MTk5MzkgQzUxLjExMjI4OTksNTUuODQxNTg0MiA0MS42NzcxNzk1LDQ5LjIxMjIyODQgMjUuNjIzOTg0Niw0OS4yMTIyMjg0IEMyNS40ODQ5Mjg5LDQ5LjEyNjg0NDggMjkuODI2MTI5Niw0My4yODM4MjQ4IDM4LjY0NzU4NjksMzEuNjgzMTY4MyBMNzIuODcxMjg3MSwzMi41NTQ0MjUgTDY1LjI4MDk3Myw2Ny42NzYzNDIxIEw1MS4xMTIyODk5LDc3LjM3NjE0NCBMMzUuMDA3NzE4LDgwIFoiIGlkPSJQYXRoLTIyIiBmaWxsPSIjMDAyODY4Ij48L3BhdGg+CiAgICAgICAgICAgICAgICA8cGF0aCBkPSJNMCwzNy43MzA0NDA1IEwyNy4xMTQ1MzcsMC4yNTcxMTE0MzYgQzYyLjM3MTUxMjMsLTEuOTkwNzE3MDEgODAsMTAuNTAwMzkyNyA4MCwzNy43MzA0NDA1IEM4MCw2NC45NjA0ODgyIDY0Ljc3NjUwMzgsNzkuMDUwMzQxNCAzNC4zMjk1MTEzLDgwIEM0Ny4wNTUzNDg5LDc3LjU2NzA4MDggNTMuNDE4MjY3Nyw3MC4zMTM2MTAzIDUzLjQxODI2NzcsNTguMjM5NTg4NSBDNTMuNDE4MjY3Nyw0MC4xMjg1NTU3IDM2LjMwMzk1NDQsMzcuNzMwNDQwNSAyNS4yMjc0MTcsMzcuNzMwNDQwNSBDMTcuODQzMDU4NiwzNy43MzA0NDA1IDkuNDMzOTE5NjYsMzcuNzMwNDQwNSAwLDM3LjczMDQ0MDUgWiIgaWQ9IlBhdGgtMTkiIGZpbGw9IiMzNzkzRUYiPjwvcGF0aD4KICAgICAgICAgICAgPC9nPgogICAgICAgIDwvZz4KICAgIDwvZz4KPC9zdmc+' > </img>\n",
        "Created in <span style='font-weight:600;margin-left:4px;'>Deepnote</span></a>"
      ],
      "metadata": {
        "created_in_deepnote_cell": true,
        "deepnote_cell_type": "markdown",
        "id": "EQfA4q2NdOWf"
      }
    }
  ],
  "nbformat": 4,
  "nbformat_minor": 0,
  "metadata": {
    "deepnote": {},
    "orig_nbformat": 2,
    "deepnote_app_width": "full-width",
    "deepnote_app_layout": "powerful-article",
    "deepnote_notebook_id": "aff54e8cc33b4635b8a92b7b8452c439",
    "deepnote_app_table_of_contents_enabled": true,
    "deepnote_app_hide_all_code_blocks_enabled": false,
    "deepnote_execution_queue": [],
    "colab": {
      "provenance": [],
      "include_colab_link": true
    },
    "language_info": {
      "name": "python"
    },
    "kernelspec": {
      "name": "python3",
      "display_name": "Python 3"
    }
  }
}